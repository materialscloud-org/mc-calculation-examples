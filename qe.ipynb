{
 "cells": [
  {
   "cell_type": "markdown",
   "metadata": {},
   "source": [
    "# QUANTUM ESPRESSO Example App\n",
    "\n",
    "**Author: Aliaksandr Yakutovich (THEOS, EPFL)**\n",
    "\n",
    "This automatic workflow allows to optimize geometry, compute the band structure of a material with a minimal set of input parameters.\n",
    "\n",
    "It is powered by:\n",
    "- [QUANTUM ESPRESSO](https://www.quantum-espresso.org/) as the quantum engine\n",
    "- [AiiDA](http://www.aiida.net) as the automation platform\n",
    "- [AiiDA-QUANTUMESPRESSO](https://github.com/aiidateam/aiida-quantumespresso) as the curated pseudopotential family\n",
    "- Custom-made workflows for AiiDA to manage the selection of parameters, the error handling, ...\n",
    "- [AppMode for Jupyter](http://github.com/oschuett/jupyter_appmode) to create a simple UI"
   ]
  },
  {
   "cell_type": "markdown",
   "metadata": {},
   "source": [
    "### Example steps to run:\n",
    "1. SCF run\n",
    "1. Relaxation run\n",
    "1. Calculate band structure"
   ]
  },
  {
   "cell_type": "code",
   "execution_count": null,
   "metadata": {},
   "outputs": [],
   "source": [
    "%%javascript\n",
    "IPython.OutputArea.prototype._should_scroll = function(lines) {\n",
    "    return false;\n",
    "}"
   ]
  },
  {
   "cell_type": "code",
   "execution_count": null,
   "metadata": {},
   "outputs": [],
   "source": [
    "import sys\n",
    "orig = sys.stderr\n",
    "sys.stderr = sys.stdout"
   ]
  },
  {
   "cell_type": "code",
   "execution_count": null,
   "metadata": {},
   "outputs": [],
   "source": [
    "import ipywidgets as ipw\n",
    "from aiidalab_widgets_base import aiidalab_display, CodeDropdown, StructureUploadWidget\n",
    "from aiida import load_dbenv, is_dbenv_loaded\n",
    "from aiida.backends import settings\n",
    "if not is_dbenv_loaded():\n",
    "    load_dbenv(profile=settings.AIIDADB_PROFILE)\n",
    "\n",
    "from aiida.orm.data.base import Str\n",
    "from aiida.work.run import run\n",
    "from aiida.orm.utils import WorkflowFactory\n",
    "from aiida.orm.data.array.kpoints import KpointsData\n",
    "from aiida.orm.data.parameter import ParameterData\n",
    "from aiida.orm import load_node\n",
    "\n",
    "from time import sleep"
   ]
  },
  {
   "cell_type": "code",
   "execution_count": null,
   "metadata": {},
   "outputs": [],
   "source": [
    "arrow_down = ipw.HTML(\"\"\"<hr>\n",
    "                         <br />\n",
    "                         <center>\n",
    "                         <i class=\"fa fa-arrow-down\" style=\"color:#B0B0B0;font-size:12em;\"></i>\n",
    "                         </center>\n",
    "                        \"\"\")\n",
    "hr = ipw.HTML('<hr>')\n",
    "run_btn = ipw.Button(description='Submit calculation')\n",
    "code_group = CodeDropdown(input_plugin='quantumespresso.pw', text=\"Select code\")\n",
    "number_of_nodes = ipw.IntText(value=1,\n",
    "                              step=1,description = \"that will be run on\",\n",
    "                              disabled=False,\n",
    "                              layout=ipw.Layout(width=\"180px\"),\n",
    "                              style={\"description_width\":\"120px\"},)"
   ]
  },
  {
   "cell_type": "code",
   "execution_count": null,
   "metadata": {},
   "outputs": [],
   "source": [
    "structure_widget = StructureUploadWidget(examples=['structures/Si.xyz', 'structures/GaAs.xyz'],\n",
    "                                         storable=False, node_class='StructureData')\n",
    "def change_submit_calc_visibility(c):\n",
    "    submit_out.layout.visibility = 'visible' if c['new'] else 'hidden'\n",
    "structure_widget.observe(change_submit_calc_visibility, names=['has_structure'])"
   ]
  },
  {
   "cell_type": "code",
   "execution_count": null,
   "metadata": {},
   "outputs": [],
   "source": [
    "def setup_calc():\n",
    "    options =  {\n",
    "        'max_wallclock_seconds': 3600*2,\n",
    "        'resources':{\n",
    "            'num_machines': number_of_nodes.value,\n",
    "        }\n",
    "    }\n",
    "    kpoints = KpointsData()\n",
    "    kpoints.set_kpoints_mesh([kpx.value, kpy.value, kpz.value])\n",
    "\n",
    "    if code_group.selected_code is None:\n",
    "        print (\"Please select a code\")\n",
    "        return None\n",
    "\n",
    "    parameters = {\n",
    "        'SYSTEM': {\n",
    "            'ecutwfc': 50.,\n",
    "            'ecutrho': 200.,\n",
    "        },\n",
    "    }\n",
    "\n",
    "    inputs = {\n",
    "        'code': code_group.selected_code,\n",
    "        'pseudo_family': Str(pseudo_family.value),\n",
    "        'parameters': ParameterData(dict=parameters),\n",
    "        'options': ParameterData(dict=options),\n",
    "    }\n",
    "    if 'optimized_structure' in globals():\n",
    "        inputs['structure'] = optimized_structure\n",
    "    else:\n",
    "        inputs['structure'] = structure_widget.structure_node\n",
    "\n",
    "    if run_type.label != 'bands':\n",
    "        inputs['kpoints'] = kpoints\n",
    "    return inputs"
   ]
  },
  {
   "cell_type": "code",
   "execution_count": null,
   "metadata": {},
   "outputs": [],
   "source": [
    "def submit_calculation(b):\n",
    "    global calculation\n",
    "    inputs = setup_calc()\n",
    "    if inputs is None:\n",
    "        pass\n",
    "    else:\n",
    "        WorkChain = WorkflowFactory(run_type.value)\n",
    "        calculation = run(WorkChain, **inputs)\n",
    "        if 'output_structure' in calculation:\n",
    "            optimized_structure = calculation['output_structure']\n",
    "            global optimized_structure\n",
    "        display(arrow_down)\n",
    "        show_results()"
   ]
  },
  {
   "cell_type": "code",
   "execution_count": null,
   "metadata": {},
   "outputs": [],
   "source": [
    "def calculation_settings():\n",
    "    global run_type, kpx, kpy, kpz, pseudo_family\n",
    "    run_type = ipw.ToggleButtons(\n",
    "        options=[\n",
    "            ('scf', 'quantumespresso.pw.base'),\n",
    "            ('relax', 'quantumespresso.pw.relax'),\n",
    "            ('bands', 'quantumespresso.pw.bands'),\n",
    "        ],\n",
    "        description='Calculation type:',\n",
    "        style = {'description_width': 'initial'},\n",
    "    )\n",
    "    kpx = ipw.BoundedIntText(value=2, min=1, step=1, description='k-points', layout=ipw.Layout(width=\"144px\"))\n",
    "    kpy = ipw.BoundedIntText(value=2, min=1, step=1, description='', layout=ipw.Layout(width=\"50px\"))\n",
    "    kpz = ipw.BoundedIntText(value=2, min=1, step=1, description='', layout=ipw.Layout(width=\"50px\"))\n",
    "    kpoints = ipw.HBox([kpx, kpy, kpz])\n",
    "    pseudo_family = ipw.ToggleButtons(\n",
    "        options = {\n",
    "            'SSSP efficiency': 'SSSP_efficiency_v1.0',\n",
    "            'SSSP accuracy': 'SSSP_accuracy_v1.0',\n",
    "        },\n",
    "        description='Pseudopotential family:',\n",
    "        style = {'description_width': 'initial'},\n",
    "    )\n",
    "\n",
    "    display(arrow_down,\n",
    "            ipw.HBox([code_group, number_of_nodes, ipw.HTML(\"node(s)\")]),\n",
    "            run_type,\n",
    "            pseudo_family,\n",
    "            kpoints,\n",
    "            run_btn)"
   ]
  },
  {
   "cell_type": "code",
   "execution_count": null,
   "metadata": {},
   "outputs": [],
   "source": [
    "def show_results():\n",
    "    for key in ['retrieved', 'output_structure', 'band_structure']:\n",
    "        if key in calculation:\n",
    "            aiidalab_display(calculation[key])\n",
    "    calculation_settings()"
   ]
  },
  {
   "cell_type": "code",
   "execution_count": null,
   "metadata": {},
   "outputs": [],
   "source": [
    "submit_out = ipw.Output(layout={'visibility':'hidden'})\n",
    "with submit_out:\n",
    "    run_btn.on_click(submit_calculation)\n",
    "    calculation_settings()\n",
    "display(structure_widget, submit_out)"
   ]
  }
 ],
 "metadata": {
  "kernelspec": {
   "display_name": "Python 2",
   "language": "python",
   "name": "python2"
  },
  "language_info": {
   "codemirror_mode": {
    "name": "ipython",
    "version": 2
   },
   "file_extension": ".py",
   "mimetype": "text/x-python",
   "name": "python",
   "nbconvert_exporter": "python",
   "pygments_lexer": "ipython2",
   "version": "2.7.15rc1"
  }
 },
 "nbformat": 4,
 "nbformat_minor": 2
}
